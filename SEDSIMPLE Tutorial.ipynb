{
 "cells": [
  {
   "cell_type": "markdown",
   "metadata": {},
   "source": [
    "# Using SEDkit with SIMPLE\n",
    "\n",
    "This notebook will walk you through an example of how you can use the sedsimple.py package to use SEDkit with data loaded from the SIMPLE database.\n",
    "\n",
    "## Requirements\n",
    "\n",
    "You must have sedsimple.py in the current working directory (or in your python path) for imports to properly work. You will also need a copy of the SIMPLE database. This is most easily done with the binary file available at https://github.com/SIMPLE-AstroDB/SIMPLE-binary. You will also need to have SEDkit and AstrodbKit2 installed. See https://github.com/dr-rodriguez/SEDkitSIMPLE for more details."
   ]
  },
  {
   "cell_type": "code",
   "execution_count": 1,
   "metadata": {},
   "outputs": [],
   "source": [
    "from astropy.table import Table\n",
    "from sedsimple import SEDSIMPLE\n",
    "from astrodbkit2.astrodb import Database"
   ]
  },
  {
   "cell_type": "markdown",
   "metadata": {},
   "source": [
    "## Initialization\n",
    "\n",
    "The first step you need to do is to establish a connection to the SIMPLE database. If you have it in your current working directory it's as easy as:"
   ]
  },
  {
   "cell_type": "code",
   "execution_count": 2,
   "metadata": {},
   "outputs": [],
   "source": [
    "db = Database('sqlite:///SIMPLE.db')"
   ]
  },
  {
   "cell_type": "markdown",
   "metadata": {},
   "source": [
    "Refer to the AstrodbKit2 documentation at https://astrodbkit2.readthedocs.io/en/latest/ if you want more information on what you can do with the database. For now, we'll move into establishing an SED object that includes data from SIMPLE."
   ]
  },
  {
   "cell_type": "code",
   "execution_count": 3,
   "metadata": {},
   "outputs": [
    {
     "name": "stdout",
     "output_type": "stream",
     "text": [
      "[sedkit] SED initialized\n",
      "[sedkit] Setting name to 'Trappist-1'\n",
      "[sedkit] 1 record for Trappist-1 found in Simbad.\n",
      "[sedkit] Setting sky_coords to <SkyCoord (ICRS): (ra, dec) in deg\n",
      "    (23.10815789, -5.04139917)>\n",
      "[sedkit] There was a problem determining the interstellar reddening. Setting to 0. You can manually set this with the 'reddening' attribute.\n",
      "[sedkit] Setting parallax to (<Quantity 80.2123 mas>, <Quantity 0.0716 mas>) with reference '2020yCat.1350....0G'\n",
      "[sedkit] Setting distance to (<Quantity 12.47 pc>, <Quantity 0.01 pc>, <Quantity 0.01 pc>) with reference '2020yCat.1350....0G'\n",
      "[sedkit] Setting interstellar reddening to 0.0 with reference '2018JOSS....3..695M'\n",
      "[sedkit] Setting radius to 'None'\n",
      "[sedkit] Setting radius to (<Quantity 0.15 solRad>, <Quantity 0.02 solRad>, <Quantity 0.01 solRad>) with reference '2013ApJS..208....9P'\n",
      "[sedkit] Setting spectral_type to (67.5, 0.5, 'V', None, None) with reference '2000AJ....120.1085G'\n",
      "[SIMPLE] Trappist-1 matched to 2MASS J23062928-0502285 in the database\n",
      "[SIMPLE] Target name Trappist-1 resolved to 2MASS J23062928-0502285 in database.\n",
      "[SIMPLE] Autoloading information from database\n",
      "[sedkit] Setting sky_coords to <SkyCoord (ICRS): (ra, dec) in deg\n",
      "    (346.62201, -5.041274)>\n",
      "[sedkit] Setting interstellar reddening to 0.0 with reference '2018JOSS....3..695M'\n",
      "[sedkit] Setting parallax to (<Quantity 80.21231613 mas>, <Quantity 0.07160574 mas>) with reference '2021A&A...649A...1G'\n",
      "[sedkit] Setting distance to (<Quantity 12.47 pc>, <Quantity 0.01 pc>, <Quantity 0.01 pc>) with reference '2021A&A...649A...1G'\n",
      "[sedkit] Setting interstellar reddening to 0.0 with reference '2018JOSS....3..695M'\n",
      "[sedkit] Setting 2MASS.H photometry to 10.718 (0.021) with reference '2003tmc..book.....C'\n",
      "[sedkit] Setting 2MASS.J photometry to 11.354 (0.022) with reference '2003tmc..book.....C'\n",
      "[sedkit] Setting 2MASS.Ks photometry to 10.296 (0.023) with reference '2003tmc..book.....C'\n",
      "[sedkit] Setting Gaia.G photometry to 15.645 (0.001) with reference '2018A&A...616A...1G'\n",
      "[sedkit] Setting Gaia.rp photometry to 14.097 (0.009) with reference '2018A&A...616A...1G'\n",
      "[sedkit] Setting Gaia.G photometry to 15.623 (0.001) with reference '2021A&A...649A...1G'\n",
      "[sedkit] Setting Gaia.rp photometry to 14.104 (0.002) with reference '2021A&A...649A...1G'\n",
      "[sedkit] Setting WISE.W1 photometry to 10.042 (0.023) with reference '2012yCat.2311....0C'\n",
      "[sedkit] Setting WISE.W2 photometry to 9.799 (0.020) with reference '2012yCat.2311....0C'\n",
      "[sedkit] Setting WISE.W3 photometry to 9.528 (0.041) with reference '2012yCat.2311....0C'\n",
      "[sedkit] Setting WISE.W4 photometry to 8.397 (nan) with reference '2012yCat.2311....0C'\n",
      "[sedkit] Spectrum 'New Spectrum' added with reference '2018AJ....155...34C'\n",
      "Error loading https://s3.amazonaws.com/bdnyc/RCspec/U12171.fits: self input argument 'x' of shape (1479,) cannot be broadcast with parameter 'slope' of shape (3,).\n",
      "[SIMPLE] Unable to parse spectrum from database \n",
      "{'spectrum': 'https://s3.amazonaws.com/bdnyc/RCspec/U12171.fits', 'original_spectrum': None, 'local_spectrum': '$BDNYC_spectra/RCspec/U12171.fits', 'regime': 'optical', 'telescope': 'KPNO 4m', 'instrument': 'R-C Spec', 'mode': None, 'observation_date': datetime.datetime(2003, 7, 10, 0, 0), 'wavelength_units': 'A', 'flux_units': 'erg s-1 cm-2 A-1', 'wavelength_order': None, 'comments': None, 'reference': 'Cruz07', 'other_references': None}\n",
      "Error: 'numpy.str_' object has no attribute 'wavelength'\n"
     ]
    }
   ],
   "source": [
    "sed = SEDSIMPLE(db, 'Trappist-1', auto_db=True)"
   ]
  },
  {
   "cell_type": "markdown",
   "metadata": {},
   "source": [
    "The SEDSIMPLE Class inherits from SEDkit's SED Class and as such can do everything already implemented. It adds a few extra methods for loading data, which are automatically called if `auto_db=True` is set. \n",
    "You may notice above some messages with `[sedkit]` and `[SIMPLE]`. The former come from the original code, while the later come from this implementation. Let's walk through what happened."
   ]
  },
  {
   "cell_type": "markdown",
   "metadata": {},
   "source": [
    "## Walkthrough\n",
    "\n",
    "The first thing that SEDSIMPLE does, regardless of whether you have `auto_db` set, is to check the provided name against the database. In this case, Trappist-1 is known as 2MASS J23062928-0502285 in the database. For convenience, this name and the inventory of data is stored in the SEDSIMPLE object:"
   ]
  },
  {
   "cell_type": "code",
   "execution_count": 4,
   "metadata": {},
   "outputs": [
    {
     "name": "stdout",
     "output_type": "stream",
     "text": [
      "2MASS J23062928-0502285\n"
     ]
    }
   ],
   "source": [
    "print(sed.db_source)"
   ]
  },
  {
   "cell_type": "code",
   "execution_count": 5,
   "metadata": {},
   "outputs": [
    {
     "name": "stdout",
     "output_type": "stream",
     "text": [
      "=========================\n",
      "Sources\n",
      "         source             ra       dec    epoch equinox shortname reference other_references comments\n",
      "----------------------- --------- --------- ----- ------- --------- --------- ---------------- --------\n",
      "2MASS J23062928-0502285 346.62201 -5.041274  None    None 2306-0502    Gizi00             None     None\n",
      "=========================\n",
      "Names\n",
      "          other_name         \n",
      "-----------------------------\n",
      "      2MASS J23062928-0502285\n",
      " Gaia DR2 2635476908753563008\n",
      "Gaia EDR3 2635476908753563008\n",
      "                   Trappist-1\n",
      "=========================\n",
      "Parallaxes\n",
      "     parallax        parallax_error   adopted comments reference\n",
      "----------------- ------------------- ------- -------- ---------\n",
      "80.45124261077767 0.12107673660785581   False     None   GaiaDR2\n",
      "80.21231612635748 0.07160574197769165    True     None  GaiaEDR3\n",
      "=========================\n",
      "Photometry\n",
      "   band     ucd        magnitude         magnitude_error    telescope instrument epoch comments reference\n",
      "--------- -------- ------------------ --------------------- --------- ---------- ----- -------- ---------\n",
      "  2MASS.H  em.IR.H             10.718                 0.021     2MASS      2MASS  None     None    Cutr03\n",
      "  2MASS.J  em.IR.J             11.354                 0.022     2MASS      2MASS  None     None    Cutr03\n",
      " 2MASS.Ks  em.IR.K             10.296                 0.023     2MASS      2MASS  None     None    Cutr03\n",
      "  GAIA2.G   em.opt 15.645121574401855 0.0014483211549970293      Gaia       Gaia  None     None   GaiaDR2\n",
      "GAIA2.Grp em.opt.R 14.096701622009277  0.008631067264215914      Gaia       Gaia  None     None   GaiaDR2\n",
      "  GAIA3.G   em.opt 15.622553825378418  0.001404272869492542      Gaia       Gaia  None     None  GaiaEDR3\n",
      "GAIA3.Grp em.opt.R 14.103951454162598 0.0019571199049016595      Gaia       Gaia  None     None  GaiaEDR3\n",
      "  WISE.W1     None             10.042                 0.023      WISE       None  None     None    Cutr12\n",
      "  WISE.W2     None              9.799                  0.02      WISE       None  None     None    Cutr12\n",
      "  WISE.W3     None              9.528                 0.041      WISE       None  None     None    Cutr12\n",
      "  WISE.W4     None              8.397                  None      WISE       None  None     None    Cutr12\n",
      "=========================\n",
      "ProperMotions\n",
      "      mu_ra           mu_ra_error            mu_dec           mu_dec_error    adopted comments reference\n",
      "----------------- ------------------- ------------------- ------------------- ------- -------- ---------\n",
      "930.8785357703113 0.24656444455477666 -479.40341833983086  0.1739242468158813   False     None   GaiaDR2\n",
      "930.7875225817781 0.08676905184984207  -479.0375409528857 0.07048741728067398    True     None  GaiaEDR3\n",
      "           922.02                0.61             -461.88                0.94   False     None    Wein16\n",
      "=========================\n",
      "Spectra\n",
      "                       spectrum                       original_spectrum ... reference other_references\n",
      "----------------------------------------------------- ----------------- ... --------- ----------------\n",
      "https://s3.amazonaws.com/bdnyc/SpeX/Prism/U12171.fits              None ...    Cruz18             None\n",
      "    https://s3.amazonaws.com/bdnyc/RCspec/U12171.fits              None ...    Cruz07             None\n",
      "=========================\n",
      "SpectralTypes\n",
      "spectral_type_string spectral_type_code spectral_type_error  regime adopted comments reference\n",
      "-------------------- ------------------ ------------------- ------- ------- -------- ---------\n",
      "                  M8               68.0                None nir_UCD    None     None    Gill16\n",
      "                M7.5               67.5                None optical    None     None    Gizi00\n"
     ]
    }
   ],
   "source": [
    "# Browse inventory; converting to Astropy Table for easier reading\n",
    "for key, tab in sed.inventory.items():\n",
    "    print('=========================')\n",
    "    print(key)\n",
    "    print(Table(tab))"
   ]
  },
  {
   "cell_type": "markdown",
   "metadata": {},
   "source": [
    "At any point, you can refer to the data by accessing the inventory and providing the table name. The default format is a list of dictionary entries."
   ]
  },
  {
   "cell_type": "code",
   "execution_count": 6,
   "metadata": {},
   "outputs": [
    {
     "name": "stdout",
     "output_type": "stream",
     "text": [
      "[{'spectral_type_string': 'M8', 'spectral_type_code': 68.0, 'spectral_type_error': None, 'regime': 'nir_UCD', 'adopted': None, 'comments': None, 'reference': 'Gill16'}, {'spectral_type_string': 'M7.5', 'spectral_type_code': 67.5, 'spectral_type_error': None, 'regime': 'optical', 'adopted': None, 'comments': None, 'reference': 'Gizi00'}]\n"
     ]
    }
   ],
   "source": [
    "print(sed.inventory['SpectralTypes'])"
   ]
  },
  {
   "cell_type": "markdown",
   "metadata": {},
   "source": [
    "When `auto_db` is set, SEDSIMPLE calls several methods that each load specific information. We'll call them again one by one here.\n",
    "\n",
    "First, we'll load coordinates, which uses information from the Sources table:"
   ]
  },
  {
   "cell_type": "code",
   "execution_count": 7,
   "metadata": {},
   "outputs": [
    {
     "name": "stdout",
     "output_type": "stream",
     "text": [
      "[sedkit] Setting sky_coords to <SkyCoord (ICRS): (ra, dec) in deg\n",
      "    (346.62201, -5.041274)>\n",
      "[sedkit] Setting interstellar reddening to 0.0 with reference '2018JOSS....3..695M'\n"
     ]
    }
   ],
   "source": [
    "sed.load_coords_db()"
   ]
  },
  {
   "cell_type": "markdown",
   "metadata": {},
   "source": [
    "Next, we'll load distance information from the Parallaxes table:"
   ]
  },
  {
   "cell_type": "code",
   "execution_count": 8,
   "metadata": {},
   "outputs": [
    {
     "name": "stdout",
     "output_type": "stream",
     "text": [
      "[sedkit] Setting parallax to (<Quantity 80.21231613 mas>, <Quantity 0.07160574 mas>) with reference '2021A&A...649A...1G'\n",
      "[sedkit] Setting distance to (<Quantity 12.47 pc>, <Quantity 0.01 pc>, <Quantity 0.01 pc>) with reference '2021A&A...649A...1G'\n",
      "[sedkit] Setting interstellar reddening to 0.0 with reference '2018JOSS....3..695M'\n"
     ]
    }
   ],
   "source": [
    "sed.load_parallax_db()"
   ]
  },
  {
   "cell_type": "markdown",
   "metadata": {},
   "source": [
    "Next, we'll load any photometry from the Photometry table:"
   ]
  },
  {
   "cell_type": "code",
   "execution_count": 9,
   "metadata": {},
   "outputs": [
    {
     "name": "stdout",
     "output_type": "stream",
     "text": [
      "[sedkit] Setting 2MASS.H photometry to 10.718 (0.021) with reference '2003tmc..book.....C'\n",
      "[sedkit] Setting 2MASS.J photometry to 11.354 (0.022) with reference '2003tmc..book.....C'\n",
      "[sedkit] Setting 2MASS.Ks photometry to 10.296 (0.023) with reference '2003tmc..book.....C'\n",
      "[sedkit] Setting Gaia.G photometry to 15.645 (0.001) with reference '2018A&A...616A...1G'\n",
      "[sedkit] Setting Gaia.rp photometry to 14.097 (0.009) with reference '2018A&A...616A...1G'\n",
      "[sedkit] Setting Gaia.G photometry to 15.623 (0.001) with reference '2021A&A...649A...1G'\n",
      "[sedkit] Setting Gaia.rp photometry to 14.104 (0.002) with reference '2021A&A...649A...1G'\n",
      "[sedkit] Setting WISE.W1 photometry to 10.042 (0.023) with reference '2012yCat.2311....0C'\n",
      "[sedkit] Setting WISE.W2 photometry to 9.799 (0.020) with reference '2012yCat.2311....0C'\n",
      "[sedkit] Setting WISE.W3 photometry to 9.528 (0.041) with reference '2012yCat.2311....0C'\n",
      "[sedkit] Setting WISE.W4 photometry to 8.397 (nan) with reference '2012yCat.2311....0C'\n"
     ]
    }
   ],
   "source": [
    "sed.load_photometry_db()"
   ]
  },
  {
   "cell_type": "markdown",
   "metadata": {},
   "source": [
    "Next, we'll load the best (adopted) spectral type from the SpectralTypes table:"
   ]
  },
  {
   "cell_type": "code",
   "execution_count": 10,
   "metadata": {},
   "outputs": [],
   "source": [
    "sed.load_spectral_type_db()"
   ]
  },
  {
   "cell_type": "markdown",
   "metadata": {},
   "source": [
    "Note that there was no output. This is because no spectral type is marked as adopted for this particular source in the database. You can manually edit the database if you feel this is incorrect.\n",
    "\n",
    "Finally, let's add all spectra from the Spectra table:"
   ]
  },
  {
   "cell_type": "code",
   "execution_count": 11,
   "metadata": {},
   "outputs": [
    {
     "name": "stdout",
     "output_type": "stream",
     "text": [
      "[sedkit] Looks like that 0.6533203125 um-2.56640625 um spectrum is already added. Skipping...\n",
      "Error loading https://s3.amazonaws.com/bdnyc/RCspec/U12171.fits: self input argument 'x' of shape (1479,) cannot be broadcast with parameter 'slope' of shape (3,).\n",
      "[SIMPLE] Unable to parse spectrum from database \n",
      "{'spectrum': 'https://s3.amazonaws.com/bdnyc/RCspec/U12171.fits', 'original_spectrum': None, 'local_spectrum': '$BDNYC_spectra/RCspec/U12171.fits', 'regime': 'optical', 'telescope': 'KPNO 4m', 'instrument': 'R-C Spec', 'mode': None, 'observation_date': datetime.datetime(2003, 7, 10, 0, 0), 'wavelength_units': 'A', 'flux_units': 'erg s-1 cm-2 A-1', 'wavelength_order': None, 'comments': None, 'reference': 'Cruz07', 'other_references': None}\n",
      "Error: 'numpy.str_' object has no attribute 'wavelength'\n"
     ]
    }
   ],
   "source": [
    "sed.load_spectra_db(column='spectrum')"
   ]
  },
  {
   "cell_type": "markdown",
   "metadata": {},
   "source": [
    "There are two available spectra for this source, but only one of them can be easily imported. The other fails due to the formatting of the data and will need be manually transformed. This is beyond the scope of this tutorial. \n",
    "\n",
    "Note the use of `column='spectrum'`, this allows you to load data from different fields in the Spectra table. Most likely you will want spectrum, but original_spectrum and local_spectrum are other options. Refer to the [SIMPLE documentation](https://github.com/SIMPLE-AstroDB/SIMPLE-db/tree/main/documentation) for more information.\n",
    "\n",
    "If you want to fetch an individual spectrum from the database, perhaps to do your own modifications you can use:"
   ]
  },
  {
   "cell_type": "code",
   "execution_count": 12,
   "metadata": {},
   "outputs": [
    {
     "name": "stdout",
     "output_type": "stream",
     "text": [
      "564 <class 'specutils.spectra.spectral_axis.SpectralAxis'>\n",
      "564 <class 'astropy.units.quantity.Quantity'>\n",
      "564 <class 'astropy.units.quantity.Quantity'>\n",
      "2018AJ....155...34C\n"
     ]
    }
   ],
   "source": [
    "spec = sed.inventory['Spectra'][0]  # select first entry in the Spectra table\n",
    "wave, flux, flux_unc, ref = sed.fetch_single_spectrum_db(spec)\n",
    "print(len(wave), type(wave))\n",
    "print(len(flux), type(flux))\n",
    "print(len(flux_unc), type(flux_unc))\n",
    "print(ref)"
   ]
  },
  {
   "cell_type": "markdown",
   "metadata": {},
   "source": [
    "### !! As a reminder: you do not need to call these individual methods if you are using `auto_db=True` !!\n",
    "\n",
    "## Generating the SED\n",
    "\n",
    "With these data in place, either loaded manually or by `auto_db` you can now proceed to the usual steps in SED generation."
   ]
  },
  {
   "cell_type": "code",
   "execution_count": 13,
   "metadata": {},
   "outputs": [
    {
     "name": "stdout",
     "output_type": "stream",
     "text": [
      "[sedkit] Setting fbol to (<Quantity 1.24153219e-10 erg / (cm2 s)>, <Quantity 3.79366668e-13 erg / (cm2 s)>) with reference 'This Work'\n",
      "[sedkit] Setting Lbol to (<Quantity 2.3099461e+30 erg / s>, <Quantity 7.97156513e+27 erg / s>) with reference 'This Work'\n",
      "[sedkit] Setting Lbol_sun to (-3.219, 0.001) with reference 'This Work'\n",
      "[sedkit] Setting mbol to (13.283, 0.003) with reference 'This Work'\n",
      "[sedkit] Setting Mbol to (12.804, 0.003) with reference 'This Work'\n",
      "[sedkit] Setting logg to 'None'\n",
      "[sedkit] Could not calculate logg without Lbol and age\n",
      "[sedkit] Setting mass to 'None'\n",
      "[sedkit] Setting mass to (<Quantity 0.07 solMass>, <Quantity 0. solMass>, <Quantity 0. solMass>) with reference '2013ApJS..208....9P'\n",
      "[sedkit] Setting Teff to (<Quantity 2335 K>, <Quantity 155 K>) with reference 'This Work'\n"
     ]
    },
    {
     "data": {
      "text/html": [
       "<div style=\"display: table;\"><div style=\"display: table-row;\"><div style=\"display: table-cell;\"><b title=\"bokeh.plotting.figure.Figure\">Figure</b>(</div><div style=\"display: table-cell;\">id&nbsp;=&nbsp;'1033', <span id=\"1397\" style=\"cursor: pointer;\">&hellip;)</span></div></div><div class=\"1396\" style=\"display: none;\"><div style=\"display: table-cell;\"></div><div style=\"display: table-cell;\">above&nbsp;=&nbsp;[],</div></div><div class=\"1396\" style=\"display: none;\"><div style=\"display: table-cell;\"></div><div style=\"display: table-cell;\">align&nbsp;=&nbsp;'start',</div></div><div class=\"1396\" style=\"display: none;\"><div style=\"display: table-cell;\"></div><div style=\"display: table-cell;\">aspect_ratio&nbsp;=&nbsp;None,</div></div><div class=\"1396\" style=\"display: none;\"><div style=\"display: table-cell;\"></div><div style=\"display: table-cell;\">aspect_scale&nbsp;=&nbsp;1,</div></div><div class=\"1396\" style=\"display: none;\"><div style=\"display: table-cell;\"></div><div style=\"display: table-cell;\">background&nbsp;=&nbsp;None,</div></div><div class=\"1396\" style=\"display: none;\"><div style=\"display: table-cell;\"></div><div style=\"display: table-cell;\">background_fill_alpha&nbsp;=&nbsp;1.0,</div></div><div class=\"1396\" style=\"display: none;\"><div style=\"display: table-cell;\"></div><div style=\"display: table-cell;\">background_fill_color&nbsp;=&nbsp;'#ffffff',</div></div><div class=\"1396\" style=\"display: none;\"><div style=\"display: table-cell;\"></div><div style=\"display: table-cell;\">below&nbsp;=&nbsp;[LogAxis(id='1044', ...)],</div></div><div class=\"1396\" style=\"display: none;\"><div style=\"display: table-cell;\"></div><div style=\"display: table-cell;\">border_fill_alpha&nbsp;=&nbsp;1.0,</div></div><div class=\"1396\" style=\"display: none;\"><div style=\"display: table-cell;\"></div><div style=\"display: table-cell;\">border_fill_color&nbsp;=&nbsp;'#ffffff',</div></div><div class=\"1396\" style=\"display: none;\"><div style=\"display: table-cell;\"></div><div style=\"display: table-cell;\">center&nbsp;=&nbsp;[Grid(id='1047', ...), Grid(id='1051', ...), Legend(id='1080', ...)],</div></div><div class=\"1396\" style=\"display: none;\"><div style=\"display: table-cell;\"></div><div style=\"display: table-cell;\">css_classes&nbsp;=&nbsp;[],</div></div><div class=\"1396\" style=\"display: none;\"><div style=\"display: table-cell;\"></div><div style=\"display: table-cell;\">disabled&nbsp;=&nbsp;False,</div></div><div class=\"1396\" style=\"display: none;\"><div style=\"display: table-cell;\"></div><div style=\"display: table-cell;\">extra_x_ranges&nbsp;=&nbsp;{},</div></div><div class=\"1396\" style=\"display: none;\"><div style=\"display: table-cell;\"></div><div style=\"display: table-cell;\">extra_x_scales&nbsp;=&nbsp;{},</div></div><div class=\"1396\" style=\"display: none;\"><div style=\"display: table-cell;\"></div><div style=\"display: table-cell;\">extra_y_ranges&nbsp;=&nbsp;{},</div></div><div class=\"1396\" style=\"display: none;\"><div style=\"display: table-cell;\"></div><div style=\"display: table-cell;\">extra_y_scales&nbsp;=&nbsp;{},</div></div><div class=\"1396\" style=\"display: none;\"><div style=\"display: table-cell;\"></div><div style=\"display: table-cell;\">frame_height&nbsp;=&nbsp;None,</div></div><div class=\"1396\" style=\"display: none;\"><div style=\"display: table-cell;\"></div><div style=\"display: table-cell;\">frame_width&nbsp;=&nbsp;None,</div></div><div class=\"1396\" style=\"display: none;\"><div style=\"display: table-cell;\"></div><div style=\"display: table-cell;\">height&nbsp;=&nbsp;400,</div></div><div class=\"1396\" style=\"display: none;\"><div style=\"display: table-cell;\"></div><div style=\"display: table-cell;\">height_policy&nbsp;=&nbsp;'auto',</div></div><div class=\"1396\" style=\"display: none;\"><div style=\"display: table-cell;\"></div><div style=\"display: table-cell;\">hidpi&nbsp;=&nbsp;True,</div></div><div class=\"1396\" style=\"display: none;\"><div style=\"display: table-cell;\"></div><div style=\"display: table-cell;\">inner_height&nbsp;=&nbsp;0,</div></div><div class=\"1396\" style=\"display: none;\"><div style=\"display: table-cell;\"></div><div style=\"display: table-cell;\">inner_width&nbsp;=&nbsp;0,</div></div><div class=\"1396\" style=\"display: none;\"><div style=\"display: table-cell;\"></div><div style=\"display: table-cell;\">js_event_callbacks&nbsp;=&nbsp;{},</div></div><div class=\"1396\" style=\"display: none;\"><div style=\"display: table-cell;\"></div><div style=\"display: table-cell;\">js_property_callbacks&nbsp;=&nbsp;{},</div></div><div class=\"1396\" style=\"display: none;\"><div style=\"display: table-cell;\"></div><div style=\"display: table-cell;\">left&nbsp;=&nbsp;[LogAxis(id='1048', ...)],</div></div><div class=\"1396\" style=\"display: none;\"><div style=\"display: table-cell;\"></div><div style=\"display: table-cell;\">lod_factor&nbsp;=&nbsp;10,</div></div><div class=\"1396\" style=\"display: none;\"><div style=\"display: table-cell;\"></div><div style=\"display: table-cell;\">lod_interval&nbsp;=&nbsp;300,</div></div><div class=\"1396\" style=\"display: none;\"><div style=\"display: table-cell;\"></div><div style=\"display: table-cell;\">lod_threshold&nbsp;=&nbsp;2000,</div></div><div class=\"1396\" style=\"display: none;\"><div style=\"display: table-cell;\"></div><div style=\"display: table-cell;\">lod_timeout&nbsp;=&nbsp;500,</div></div><div class=\"1396\" style=\"display: none;\"><div style=\"display: table-cell;\"></div><div style=\"display: table-cell;\">margin&nbsp;=&nbsp;(0, 0, 0, 0),</div></div><div class=\"1396\" style=\"display: none;\"><div style=\"display: table-cell;\"></div><div style=\"display: table-cell;\">match_aspect&nbsp;=&nbsp;False,</div></div><div class=\"1396\" style=\"display: none;\"><div style=\"display: table-cell;\"></div><div style=\"display: table-cell;\">max_height&nbsp;=&nbsp;None,</div></div><div class=\"1396\" style=\"display: none;\"><div style=\"display: table-cell;\"></div><div style=\"display: table-cell;\">max_width&nbsp;=&nbsp;None,</div></div><div class=\"1396\" style=\"display: none;\"><div style=\"display: table-cell;\"></div><div style=\"display: table-cell;\">min_border&nbsp;=&nbsp;5,</div></div><div class=\"1396\" style=\"display: none;\"><div style=\"display: table-cell;\"></div><div style=\"display: table-cell;\">min_border_bottom&nbsp;=&nbsp;None,</div></div><div class=\"1396\" style=\"display: none;\"><div style=\"display: table-cell;\"></div><div style=\"display: table-cell;\">min_border_left&nbsp;=&nbsp;None,</div></div><div class=\"1396\" style=\"display: none;\"><div style=\"display: table-cell;\"></div><div style=\"display: table-cell;\">min_border_right&nbsp;=&nbsp;None,</div></div><div class=\"1396\" style=\"display: none;\"><div style=\"display: table-cell;\"></div><div style=\"display: table-cell;\">min_border_top&nbsp;=&nbsp;None,</div></div><div class=\"1396\" style=\"display: none;\"><div style=\"display: table-cell;\"></div><div style=\"display: table-cell;\">min_height&nbsp;=&nbsp;None,</div></div><div class=\"1396\" style=\"display: none;\"><div style=\"display: table-cell;\"></div><div style=\"display: table-cell;\">min_width&nbsp;=&nbsp;None,</div></div><div class=\"1396\" style=\"display: none;\"><div style=\"display: table-cell;\"></div><div style=\"display: table-cell;\">name&nbsp;=&nbsp;None,</div></div><div class=\"1396\" style=\"display: none;\"><div style=\"display: table-cell;\"></div><div style=\"display: table-cell;\">outer_height&nbsp;=&nbsp;0,</div></div><div class=\"1396\" style=\"display: none;\"><div style=\"display: table-cell;\"></div><div style=\"display: table-cell;\">outer_width&nbsp;=&nbsp;0,</div></div><div class=\"1396\" style=\"display: none;\"><div style=\"display: table-cell;\"></div><div style=\"display: table-cell;\">outline_line_alpha&nbsp;=&nbsp;1.0,</div></div><div class=\"1396\" style=\"display: none;\"><div style=\"display: table-cell;\"></div><div style=\"display: table-cell;\">outline_line_cap&nbsp;=&nbsp;'butt',</div></div><div class=\"1396\" style=\"display: none;\"><div style=\"display: table-cell;\"></div><div style=\"display: table-cell;\">outline_line_color&nbsp;=&nbsp;'#e5e5e5',</div></div><div class=\"1396\" style=\"display: none;\"><div style=\"display: table-cell;\"></div><div style=\"display: table-cell;\">outline_line_dash&nbsp;=&nbsp;[],</div></div><div class=\"1396\" style=\"display: none;\"><div style=\"display: table-cell;\"></div><div style=\"display: table-cell;\">outline_line_dash_offset&nbsp;=&nbsp;0,</div></div><div class=\"1396\" style=\"display: none;\"><div style=\"display: table-cell;\"></div><div style=\"display: table-cell;\">outline_line_join&nbsp;=&nbsp;'bevel',</div></div><div class=\"1396\" style=\"display: none;\"><div style=\"display: table-cell;\"></div><div style=\"display: table-cell;\">outline_line_width&nbsp;=&nbsp;1,</div></div><div class=\"1396\" style=\"display: none;\"><div style=\"display: table-cell;\"></div><div style=\"display: table-cell;\">output_backend&nbsp;=&nbsp;'canvas',</div></div><div class=\"1396\" style=\"display: none;\"><div style=\"display: table-cell;\"></div><div style=\"display: table-cell;\">renderers&nbsp;=&nbsp;[GlyphRenderer(id='1068', ...), GlyphRenderer(id='1089', ...), GlyphRenderer(id='1108', ...), GlyphRenderer(id='1115', ...), GlyphRenderer(id='1138', ...)],</div></div><div class=\"1396\" style=\"display: none;\"><div style=\"display: table-cell;\"></div><div style=\"display: table-cell;\">reset_policy&nbsp;=&nbsp;'standard',</div></div><div class=\"1396\" style=\"display: none;\"><div style=\"display: table-cell;\"></div><div style=\"display: table-cell;\">right&nbsp;=&nbsp;[],</div></div><div class=\"1396\" style=\"display: none;\"><div style=\"display: table-cell;\"></div><div style=\"display: table-cell;\">sizing_mode&nbsp;=&nbsp;None,</div></div><div class=\"1396\" style=\"display: none;\"><div style=\"display: table-cell;\"></div><div style=\"display: table-cell;\">subscribed_events&nbsp;=&nbsp;[],</div></div><div class=\"1396\" style=\"display: none;\"><div style=\"display: table-cell;\"></div><div style=\"display: table-cell;\">syncable&nbsp;=&nbsp;True,</div></div><div class=\"1396\" style=\"display: none;\"><div style=\"display: table-cell;\"></div><div style=\"display: table-cell;\">tags&nbsp;=&nbsp;[],</div></div><div class=\"1396\" style=\"display: none;\"><div style=\"display: table-cell;\"></div><div style=\"display: table-cell;\">title&nbsp;=&nbsp;Title(id='1034', ...),</div></div><div class=\"1396\" style=\"display: none;\"><div style=\"display: table-cell;\"></div><div style=\"display: table-cell;\">title_location&nbsp;=&nbsp;'above',</div></div><div class=\"1396\" style=\"display: none;\"><div style=\"display: table-cell;\"></div><div style=\"display: table-cell;\">toolbar&nbsp;=&nbsp;Toolbar(id='1058', ...),</div></div><div class=\"1396\" style=\"display: none;\"><div style=\"display: table-cell;\"></div><div style=\"display: table-cell;\">toolbar_location&nbsp;=&nbsp;'right',</div></div><div class=\"1396\" style=\"display: none;\"><div style=\"display: table-cell;\"></div><div style=\"display: table-cell;\">toolbar_sticky&nbsp;=&nbsp;True,</div></div><div class=\"1396\" style=\"display: none;\"><div style=\"display: table-cell;\"></div><div style=\"display: table-cell;\">visible&nbsp;=&nbsp;True,</div></div><div class=\"1396\" style=\"display: none;\"><div style=\"display: table-cell;\"></div><div style=\"display: table-cell;\">width&nbsp;=&nbsp;900,</div></div><div class=\"1396\" style=\"display: none;\"><div style=\"display: table-cell;\"></div><div style=\"display: table-cell;\">width_policy&nbsp;=&nbsp;'auto',</div></div><div class=\"1396\" style=\"display: none;\"><div style=\"display: table-cell;\"></div><div style=\"display: table-cell;\">x_range&nbsp;=&nbsp;Range1d(id='1159', ...),</div></div><div class=\"1396\" style=\"display: none;\"><div style=\"display: table-cell;\"></div><div style=\"display: table-cell;\">x_scale&nbsp;=&nbsp;LogScale(id='1040', ...),</div></div><div class=\"1396\" style=\"display: none;\"><div style=\"display: table-cell;\"></div><div style=\"display: table-cell;\">y_range&nbsp;=&nbsp;Range1d(id='1160', ...),</div></div><div class=\"1396\" style=\"display: none;\"><div style=\"display: table-cell;\"></div><div style=\"display: table-cell;\">y_scale&nbsp;=&nbsp;LogScale(id='1042', ...))</div></div></div>\n",
       "<script>\n",
       "(function() {\n",
       "  let expanded = false;\n",
       "  const ellipsis = document.getElementById(\"1397\");\n",
       "  ellipsis.addEventListener(\"click\", function() {\n",
       "    const rows = document.getElementsByClassName(\"1396\");\n",
       "    for (let i = 0; i < rows.length; i++) {\n",
       "      const el = rows[i];\n",
       "      el.style.display = expanded ? \"none\" : \"table-row\";\n",
       "    }\n",
       "    ellipsis.innerHTML = expanded ? \"&hellip;)\" : \"&lsaquo;&lsaquo;&lsaquo;\";\n",
       "    expanded = !expanded;\n",
       "  });\n",
       "})();\n",
       "</script>\n"
      ],
      "text/plain": [
       "Figure(id='1033', ...)"
      ]
     },
     "execution_count": 13,
     "metadata": {},
     "output_type": "execute_result"
    }
   ],
   "source": [
    "sed.plot()"
   ]
  },
  {
   "cell_type": "code",
   "execution_count": 14,
   "metadata": {},
   "outputs": [
    {
     "data": {
      "text/html": [
       "<div><i>Table length=18</i>\n",
       "<table id=\"table5368442496\" class=\"table-striped table-bordered table-condensed\">\n",
       "<thead><tr><th>param</th><th>value</th><th>unc</th><th>units</th></tr></thead>\n",
       "<thead><tr><th>object</th><th>object</th><th>object</th><th>object</th></tr></thead>\n",
       "<tr><td>name</td><td>Trappist-1</td><td>--</td><td>--</td></tr>\n",
       "<tr><td>ra</td><td>346.62201</td><td>--</td><td>deg</td></tr>\n",
       "<tr><td>dec</td><td>-5.041274</td><td>--</td><td>deg</td></tr>\n",
       "<tr><td>age</td><td>--</td><td>--</td><td>--</td></tr>\n",
       "<tr><td>membership</td><td>--</td><td>--</td><td>--</td></tr>\n",
       "<tr><td>distance</td><td>12.47</td><td>0.01</td><td>pc</td></tr>\n",
       "<tr><td>parallax</td><td>80.21231612635748</td><td>0.07160574197769165</td><td>mas</td></tr>\n",
       "<tr><td>SpT</td><td>M7.5V</td><td>--</td><td>--</td></tr>\n",
       "<tr><td>spectral_type</td><td>67.5</td><td>0.5</td><td>--</td></tr>\n",
       "<tr><td>fbol</td><td>1.24e-10</td><td>3.79e-13</td><td>erg / (cm2 s)</td></tr>\n",
       "<tr><td>mbol</td><td>13.283</td><td>0.003</td><td>--</td></tr>\n",
       "<tr><td>Lbol</td><td>2.31e+30</td><td>7.97e+27</td><td>erg / s</td></tr>\n",
       "<tr><td>Lbol_sun</td><td>-3.22</td><td>0.001</td><td>--</td></tr>\n",
       "<tr><td>Mbol</td><td>12.804</td><td>0.003</td><td>--</td></tr>\n",
       "<tr><td>Teff</td><td>2335</td><td>155</td><td>K</td></tr>\n",
       "<tr><td>logg</td><td>--</td><td>--</td><td>--</td></tr>\n",
       "<tr><td>mass</td><td>0.07</td><td>0.0</td><td>solMass</td></tr>\n",
       "<tr><td>radius</td><td>0.15</td><td>0.02</td><td>solRad</td></tr>\n",
       "</table></div>"
      ],
      "text/plain": [
       "<Table length=18>\n",
       "    param           value               unc             units    \n",
       "    object          object             object           object   \n",
       "------------- ----------------- ------------------- -------------\n",
       "         name        Trappist-1                  --            --\n",
       "           ra         346.62201                  --           deg\n",
       "          dec         -5.041274                  --           deg\n",
       "          age                --                  --            --\n",
       "   membership                --                  --            --\n",
       "     distance             12.47                0.01            pc\n",
       "     parallax 80.21231612635748 0.07160574197769165           mas\n",
       "          SpT             M7.5V                  --            --\n",
       "spectral_type              67.5                 0.5            --\n",
       "         fbol          1.24e-10            3.79e-13 erg / (cm2 s)\n",
       "         mbol            13.283               0.003            --\n",
       "         Lbol          2.31e+30            7.97e+27       erg / s\n",
       "     Lbol_sun             -3.22               0.001            --\n",
       "         Mbol            12.804               0.003            --\n",
       "         Teff              2335                 155             K\n",
       "         logg                --                  --            --\n",
       "         mass              0.07                 0.0       solMass\n",
       "       radius              0.15                0.02        solRad"
      ]
     },
     "execution_count": 14,
     "metadata": {},
     "output_type": "execute_result"
    }
   ],
   "source": [
    "sed.results"
   ]
  },
  {
   "cell_type": "code",
   "execution_count": null,
   "metadata": {},
   "outputs": [],
   "source": []
  }
 ],
 "metadata": {
  "kernelspec": {
   "display_name": "Python 3 (ipykernel)",
   "language": "python",
   "name": "python3"
  },
  "language_info": {
   "codemirror_mode": {
    "name": "ipython",
    "version": 3
   },
   "file_extension": ".py",
   "mimetype": "text/x-python",
   "name": "python",
   "nbconvert_exporter": "python",
   "pygments_lexer": "ipython3",
   "version": "3.9.13"
  }
 },
 "nbformat": 4,
 "nbformat_minor": 4
}
